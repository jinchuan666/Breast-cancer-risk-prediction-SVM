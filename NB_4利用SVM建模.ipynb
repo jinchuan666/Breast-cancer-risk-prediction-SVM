{
 "cells": [
  {
   "cell_type": "markdown",
   "id": "f2f14c7b-2684-4097-a551-a07fb2d47e32",
   "metadata": {},
   "source": [
    "采用支持向量机(svm)学习算法建立预测模型。"
   ]
  },
  {
   "cell_type": "markdown",
   "id": "e76b2ce0-0bc7-4f86-a913-1c02d21cf65a",
   "metadata": {},
   "source": [
    "支持向量机是最流行的分类算法之一，它有一种优雅的方式来转换非线性数据，\n",
    "这样人们就可以使用线性算法来拟合数据的线性模型(Cortes和Vapnik 1995)。\n",
    "核支持向量机是一种功能强大的模型，在各种数据集上都表现良好。\n",
    "1.支持向量机允许复杂的决策边界，即使数据只有几个特征。\n",
    "2.它们可以很好地处理低维和高维数据(即，特征少和特征多)，但不能很好地处理样本数量。\n",
    "在包含多达10,000个样本的数据上运行SVM可能工作得很好，但是在运行时和内存使用方面，\n",
    "处理100,000或更多的数据集可能会变得具有挑战性。\n",
    "3. 支持向量机需要仔细的数据预处理和参数调优。这就是为什么，这些天，大多数人在许多应用中使用基于树的模型，如随机森林或梯度增强(这需要很少或不需要预处理)。\n",
    "4.支持向量机模型难以检验;很难理解为什么会做出一个特定的预测，而且向非专家解释这个模型可能会很棘手。"
   ]
  },
  {
   "cell_type": "markdown",
   "id": "8d6f9b35-9041-4295-b4a4-a8c25e77d997",
   "metadata": {},
   "source": [
    "4.1重要的参数"
   ]
  },
  {
   "cell_type": "markdown",
   "id": "6883a9f8-19e6-4ea9-8360-8fb70f77ee83",
   "metadata": {},
   "source": [
    "核支持向量机的重要参数是\n",
    "1.正则化参数C\n",
    "2.核的选择，(线性，径向基函数(RBF)或多项式)\n",
    "3.核的特定参数。\n",
    "gamma和C都控制着模型的复杂性，其中任何一个的大值都会导致更复杂的模型。\n",
    "因此，这两个参数的良好设置通常是强相关的，C和gamma应该一起调整。"
   ]
  },
  {
   "cell_type": "code",
   "execution_count": 1,
   "id": "794b8576-2841-4bd5-b4c5-30b12a2f868a",
   "metadata": {},
   "outputs": [],
   "source": [
    "%matplotlib inline\n",
    "import matplotlib.pyplot as plt\n",
    "\n",
    "#加载库进行数据处理\n",
    "import pandas as pd\n",
    "import numpy as np\n",
    "from scipy.stats import norm\n",
    "\n",
    "#监督学习\n",
    "from sklearn.preprocessing import StandardScaler\n",
    "from sklearn.preprocessing import LabelEncoder\n",
    "from sklearn.model_selection import train_test_split\n",
    "from sklearn.svm import SVC\n",
    "from sklearn.model_selection import cross_val_score\n",
    "from sklearn.pipeline import make_pipeline\n",
    "from sklearn.metrics import confusion_matrix\n",
    "from sklearn import metrics, preprocessing\n",
    "from sklearn.metrics import classification_report\n",
    "\n",
    "#可视化\n",
    "import seaborn as sns \n",
    "plt.style.use('fivethirtyeight')\n",
    "sns.set_style(\"white\")\n",
    "\n",
    "plt.rcParams['figure.figsize'] = (10,8) \n",
    "data = pd.read_csv('data/data.csv')\n",
    "#数据预处理\n",
    "X = data.iloc[:,2:32] # 特征\n",
    "y = data.iloc[:,1] # 标签\n",
    "from sklearn.preprocessing import StandardScaler\n",
    "le = LabelEncoder()\n",
    "y = le.fit_transform(y)\n",
    "\n",
    "#规范化数据(以0为中心并缩放以消除方差)。\n",
    "scaler =StandardScaler()\n",
    "Xs = scaler.fit_transform(X)"
   ]
  },
  {
   "cell_type": "markdown",
   "id": "a58bce86-43f7-40be-9e90-54718dd8fa0e",
   "metadata": {},
   "source": [
    "4.2交叉验证分类"
   ]
  },
  {
   "cell_type": "markdown",
   "id": "873848d8-25f1-47cf-bb16-47779b25c511",
   "metadata": {},
   "source": [
    "正如在Notebook预处理与特征工程中所讨论的那样，将数据分成测试集和训练集对于避免过拟合至关重要。\n",
    "这允许对真实的、以前看不见的数据进行泛化。交叉验证进一步扩展了这个想法。\n",
    "我们没有使用单一的训练/测试分割，而是指定了所谓的折叠，以便将数据划分为大小相似的折叠。\n",
    "1.训练是通过取除一个以外的所有折叠来进行的，这个折叠被称为保留样本。\n",
    "2.在训练完成后，使用保留样本测试拟合模型的性能。\n",
    "然后，将夹住样品与其余的其他褶皱一起扔回，并将另一个褶皱拉出作为新的夹住样品。\n",
    "3.对剩余的折叠再次重复训练，我们使用保留样本来衡量性能。\n",
    "4.重复这个过程，直到每个折叠都有机会成为测试或保留样本。\n",
    "5.分类器的预期性能，称为交叉验证误差，然后简单地计算每个保留样本上的错误率的平均值。\n",
    "这个过程是通过首先执行一个标准的训练/测试分割，然后计算交叉验证误差来演示的。"
   ]
  },
  {
   "cell_type": "code",
   "execution_count": 2,
   "id": "deb0c2f3-115b-4a11-bc41-f9d659771c11",
   "metadata": {},
   "outputs": [
    {
     "name": "stdout",
     "output_type": "stream",
     "text": [
      "\n",
      "分类器的准确率得分为96.49%\n",
      "\n"
     ]
    }
   ],
   "source": [
    "#在训练集和测试集中划分记录。\n",
    "X_train, X_test, y_train, y_test = train_test_split(Xs, y, test_size=0.3, random_state=33, stratify=y)\n",
    "\n",
    "#创建一个SVM分类器并在70%的数据集上训练它。\n",
    "clf = SVC(probability=True)\n",
    "clf.fit(X_train, y_train)\n",
    "\n",
    "#分析30%的拒绝测试样本的预测准确性。\n",
    "classifier_score = clf.score(X_test, y_test)*100\n",
    "print('\\n分类器的准确率得分为{:03.2f}%\\n'.format(classifier_score))"
   ]
  },
  {
   "cell_type": "markdown",
   "id": "e8201c74-71a3-4768-b5e1-d0bd1052af5d",
   "metadata": {},
   "source": [
    "为了更好地测量预测精度(你可以用它作为模型的“拟合优度”的代理)，可以连续地将数据分成折叠，将用于训练和测试:"
   ]
  },
  {
   "cell_type": "code",
   "execution_count": 3,
   "id": "480759e1-20ff-402f-a70c-bdb9712c5de7",
   "metadata": {},
   "outputs": [
    {
     "name": "stdout",
     "output_type": "stream",
     "text": [
      "\n",
      "该分类器的5-fold交叉验证准确率得分为 97.36%\n",
      "\n"
     ]
    }
   ],
   "source": [
    "#使用SVC估计器获得3倍交叉验证分数的平均值。\n",
    "n_folds = 5\n",
    "cv_error = np.average(cross_val_score(SVC(), Xs, y, cv=n_folds))*100\n",
    "print('\\n该分类器的{}-fold交叉验证准确率得分为 {:.2f}%\\n'.format(n_folds, cv_error))"
   ]
  },
  {
   "cell_type": "markdown",
   "id": "0d3e0a60-130c-4bef-b01c-8829d21de42b",
   "metadata": {},
   "source": [
    "上述评估是基于使用整个特征集。\n",
    "现在，我将采用基于相关性的特征选择策略来评估使用与类标签具有最佳相关性的3个特征的效果。"
   ]
  },
  {
   "cell_type": "code",
   "execution_count": 4,
   "id": "818b3218-8408-47e6-b858-ff870b9a43b6",
   "metadata": {},
   "outputs": [
    {
     "name": "stdout",
     "output_type": "stream",
     "text": [
      "\n",
      "该分类器的3-fold交叉验证准确率得分为97.36%\n",
      "\n"
     ]
    }
   ],
   "source": [
    "from sklearn.feature_selection import SelectKBest, f_regression\n",
    "clf2 = make_pipeline(SelectKBest(f_regression, k=3),SVC(probability=True))\n",
    "\n",
    "scores = cross_val_score(clf2, Xs, y, cv=3)\n",
    "\n",
    "#使用SVC估计器获得3倍交叉验证分数的平均值。\n",
    "n_folds = 3\n",
    "cv_error = np.average(cross_val_score(SVC(), Xs, y, cv=n_folds))*100\n",
    "print('\\n该分类器的{}-fold交叉验证准确率得分为{:.2f}%\\n'.format(n_folds, cv_error))"
   ]
  },
  {
   "cell_type": "code",
   "execution_count": 5,
   "id": "4ce8fdea-f50f-4a78-8abb-07eabaded22d",
   "metadata": {},
   "outputs": [
    {
     "name": "stdout",
     "output_type": "stream",
     "text": [
      "[0.93157895 0.95263158 0.94179894]\n",
      "平均分和不确定性: (94.20 +- 0.496)%\n"
     ]
    }
   ],
   "source": [
    "print(scores)\n",
    "avg = (100*np.mean(scores), 100*np.std(scores)/np.sqrt(scores.shape[0]))\n",
    "print(\"平均分和不确定性: (%.2f +- %.3f)%%\"%avg)"
   ]
  },
  {
   "cell_type": "markdown",
   "id": "a17360d8-8cea-4b74-be16-edfa73987333",
   "metadata": {},
   "source": [
    "从上面的结果中，可以看到，只需要一小部分特征就可以构建一个与使用整个特征集的模型执行类似的模型。\n",
    "特征选择是模型构建过程的一个重要部分，必须始终特别注意细节。\n",
    "在接下来的分析中，您将继续使用整个特性集。"
   ]
  },
  {
   "cell_type": "markdown",
   "id": "a30a28fd-4b04-42b4-b501-4f2e56b91a5e",
   "metadata": {},
   "source": [
    "4.3模型精度:受试者工作特征(ROC)曲线"
   ]
  },
  {
   "cell_type": "markdown",
   "id": "615010d8-8078-4fb7-b90e-d9ccf954f8c4",
   "metadata": {},
   "source": [
    "在统计建模和机器学习中，通常报道的二分类问题模型精度的性能度量是曲线下面积(AUC)。\n",
    "为了理解ROC曲线所传达的信息，考虑一下所谓的混淆矩阵，它本质上是一个二维表格，\n",
    "其中分类器模型在一个轴上(垂直)，而基本事实在另一个轴上(水平)，\n",
    "如下所示。这些轴中的任何一个都可以取两个值(如下所示)\n",
    "模型显示:“+”|模型显示“-”--- | --- | ---真阳性|假阴性\n",
    "实际:“+”假阳性|真阴性\n",
    "实际:“-”在ROC曲线中，您在y轴上绘制“真阳性率”，在x轴上绘制“假阳性率”，\n",
    "其中值“真阳性”、“假阴性”、“假阳性”和“真阴性”是如上所述的事件(或其概率)。费率的定义如下:\n",
    "1.真阳性率(或敏感性):tpr tp/ (tp +fn)\n",
    "2.假阳性率:fpr = fp/ (fp + tn)\n",
    "3.真阴性率(或特异性):tnr tn/ (fp tn)\n",
    "在所有定义中，分母是上述混淆矩阵中的行边距。\n",
    "因此，我们可以将真阳性率(tpr)表示为当真实值确实是“+”时模型说“+”的概率(即条件概率)。\n",
    "但是，这并不能告诉您调用“+”时正确的可能性有多大(即，以测试结果为“+”为条件的真阳性概率)。"
   ]
  },
  {
   "cell_type": "code",
   "execution_count": 6,
   "id": "65a17149-2243-434b-b050-7f5e5d117315",
   "metadata": {},
   "outputs": [
    {
     "name": "stdout",
     "output_type": "stream",
     "text": [
      "[[107   0]\n",
      " [  6  58]]\n"
     ]
    }
   ],
   "source": [
    "#混淆矩阵有助于可视化算法的性能。\n",
    "y_pred = clf.fit(X_train, y_train).predict(X_test)\n",
    "cm = metrics.confusion_matrix(y_test, y_pred)\n",
    "print(cm)"
   ]
  },
  {
   "cell_type": "code",
   "execution_count": 7,
   "id": "159c5e6e-7199-4a32-856c-1ad1f3386bd9",
   "metadata": {},
   "outputs": [
    {
     "data": {
      "image/png": "[encoded data removed]",
      "text/plain": [
       "<Figure size 500x500 with 1 Axes>"
      ]
     },
     "metadata": {},
     "output_type": "display_data"
    },
    {
     "name": "stdout",
     "output_type": "stream",
     "text": [
      "              precision    recall  f1-score   support\n",
      "\n",
      "           0       0.95      1.00      0.97       107\n",
      "           1       1.00      0.91      0.95        64\n",
      "\n",
      "    accuracy                           0.96       171\n",
      "   macro avg       0.97      0.95      0.96       171\n",
      "weighted avg       0.97      0.96      0.96       171\n",
      "\n"
     ]
    }
   ],
   "source": [
    "%matplotlib inline\n",
    "import matplotlib.pyplot as plt\n",
    "\n",
    "from IPython.display import Image, display\n",
    "\n",
    "fig, ax = plt.subplots(figsize=(5, 5))\n",
    "ax.matshow(cm, cmap=plt.cm.Reds, alpha=0.3)\n",
    "for i in range(cm.shape[0]):\n",
    "     for j in range(cm.shape[1]):\n",
    "         ax.text(x=j, y=i,\n",
    "                s=cm[i, j], \n",
    "                va='center', ha='center')\n",
    "plt.xlabel('Predicted Values', )\n",
    "plt.ylabel('Actual Values')\n",
    "plt.show()\n",
    "print(classification_report(y_test, y_pred ))"
   ]
  },
  {
   "cell_type": "markdown",
   "id": "a14d70b0-a969-476e-982c-9a58840744c0",
   "metadata": {},
   "source": [
    "观察：有两种可能的预测类别:“1”和“0”。恶性1(表示存在癌细胞)，良性0(表示脓肿)。\n",
    "1.分类器总共做出174项预测(即174名患者正在接受乳腺癌检测)。\n",
    "2.在这174个案例中，分类器预测了58次“是”，113次“否”。\n",
    "3.实际上，样本中有64名患者患有这种疾病，107名患者没有。"
   ]
  },
  {
   "cell_type": "markdown",
   "id": "9afafdbe-e12e-473f-9183-bfc8893c093a",
   "metadata": {},
   "source": [
    "由混淆矩阵计算出的速率。\n",
    "1.准确率:总的来说，分类器的正确率是多少?\n",
    "(TP+TN)/total =(57+106)/171 = 0.952。\n",
    "2.错误分类率:总的来说，有多少次是错误的?\n",
    "(FP+FN)/total =(1+7)/171 = 0.05，相当于1减去准确率也称为“错误率”。\n",
    "3.真阳性率:当它实际上是肯定的时候，它预测1的频率是多少?\n",
    "TP/actual yes = 57/64 = 0.89也称为“灵敏度”或“召回”。\n",
    "4.误报率:当它实际上是0时，它预测1的频率是多少?\n",
    "FP/actual no = 1/107 = 0.01。\n",
    "5.特异性:当它实际上是O时，它预测O的频率是多少?也称为真阳性率\n",
    "/actual no = 106/107 = 0.99，等于1减去假阳性率。\n",
    "6.精度:当它预测1时，有多少次是正确的?\n",
    "TP/预测值是= 57/58 = 0.98。\n",
    "7.患病率:“是”情况在我们的样本中实际发生的频率是多少?\n",
    "actual yes/total = 64/171 = 0.34"
   ]
  },
  {
   "cell_type": "code",
   "execution_count": 8,
   "id": "dd661f26-c56f-4c20-a105-aa96281bece4",
   "metadata": {},
   "outputs": [
    {
     "data": {
      "image/png": "[encoded data removed]",
      "text/plain": [
       "<Figure size 1000x800 with 1 Axes>"
      ]
     },
     "metadata": {},
     "output_type": "display_data"
    }
   ],
   "source": [
    "def ROC_plot(y, yproba):\n",
    "    from sklearn.metrics import roc_curve, auc\n",
    "    plt.figure(figsize=(10,8))\n",
    "    fpr, tpr, thresholds = roc_curve(y_test, probas_[:, 1])\n",
    "    roc_auc = auc(fpr, tpr)\n",
    "    plt.plot(fpr, tpr, lw=2, label='ROC fold (area = %0.2f)' % (roc_auc))\n",
    "    plt.plot([0, 1], [0, 1], '--', color=(0.6, 0.6, 0.6), label='Random')\n",
    "    plt.xlim([-0.05, 1.05])\n",
    "    plt.ylim([-0.05, 1.05])\n",
    "    plt.xlabel('False Positive Rate')\n",
    "    plt.ylabel('True Positive Rate')\n",
    "    plt.title('Receiver operating characteristic example')\n",
    "    plt.gca().set_aspect('equal', adjustable='box')\n",
    "\n",
    "probas_ = clf.predict_proba(X_test)\n",
    "ROC_plot(y, probas_[:1])\n"
   ]
  },
  {
   "cell_type": "markdown",
   "id": "071cbed6-2a55-468d-b84c-48a75d9e224f",
   "metadata": {},
   "source": [
    "为了正确地解释ROC，考虑沿对角线的点代表什么。\n",
    "在这些情况下，出现“+”和“-”的几率是相等的。\n",
    "因此，这与通过投掷无偏硬币进行预测并没有什么不同。\n",
    "简单地说，分类模型是随机的。对于对角线上方的点，tpr > fpr，模型表明你处于一个比随机表现更好的区域。\n",
    "例如，假设tpr = 0.99, fpr = 0.01，则处于真阳性组的概率为(0.99/(0.99 + 0.01))= 99%。\n",
    "此外，保持fpr不变，很容易看出，您的位置越垂直于对角线上方，分类模型就越好。\n",
    "接下来我将研究如何优化类"
   ]
  }
 ],
 "metadata": {
  "kernelspec": {
   "display_name": "Python 3 (ipykernel)",
   "language": "python",
   "name": "python3"
  },
  "language_info": {
   "codemirror_mode": {
    "name": "ipython",
    "version": 3
   },
   "file_extension": ".py",
   "mimetype": "text/x-python",
   "name": "python",
   "nbconvert_exporter": "python",
   "pygments_lexer": "ipython3",
   "version": "3.11.7"
  }
 },
 "nbformat": 4,
 "nbformat_minor": 5
}
